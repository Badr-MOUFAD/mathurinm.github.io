{
 "cells": [
  {
   "cell_type": "code",
   "execution_count": 1,
   "id": "ff5b7426",
   "metadata": {},
   "outputs": [],
   "source": [
    "import numpy as np \n",
    "import matplotlib.pyplot as plt\n",
    "from numpy.linalg import norm\n",
    "from scipy.optimize import check_grad \n",
    "from sklearn.linear_model import LogisticRegression\n",
    "np.set_printoptions(precision=3)"
   ]
  },
  {
   "cell_type": "markdown",
   "id": "1d70e545",
   "metadata": {},
   "source": [
    "## Least squares without strong convexity"
   ]
  },
  {
   "cell_type": "code",
   "execution_count": 2,
   "id": "4fb615cc",
   "metadata": {},
   "outputs": [
    {
     "data": {
      "text/plain": [
       "[<matplotlib.lines.Line2D at 0x7f608397a910>]"
      ]
     },
     "execution_count": 2,
     "metadata": {},
     "output_type": "execute_result"
    },
    {
     "data": {
      "image/png": "[encoded data removed]",
      "text/plain": [
       "<Figure size 432x288 with 1 Axes>"
      ]
     },
     "metadata": {
      "needs_background": "light"
     },
     "output_type": "display_data"
    }
   ],
   "source": [
    "np.random.seed(0)\n",
    "n_samples, n_features = 30, 50\n",
    "b = np.random.randn(n_samples)\n",
    "A = np.random.randn(n_samples, n_features)\n",
    "\n",
    "eigvals = np.linalg.eigvalsh(A.T @ A)\n",
    "plt.plot(eigvals)"
   ]
  },
  {
   "cell_type": "code",
   "execution_count": 3,
   "id": "678f3f50",
   "metadata": {},
   "outputs": [],
   "source": [
    "max_iter = 1000\n",
    "L = norm(A, ord=2) ** 2\n",
    "x = np.zeros(A.shape[1])\n",
    "objs = []\n",
    "for it in range(max_iter):\n",
    "    x -= 1. / L * A.T @ (A @ x - b)\n",
    "    objs.append(0.5 * norm(A @ x - b) ** 2)"
   ]
  },
  {
   "cell_type": "code",
   "execution_count": 4,
   "id": "28ea6600",
   "metadata": {},
   "outputs": [
    {
     "data": {
      "text/plain": [
       "[<matplotlib.lines.Line2D at 0x7f608388f340>]"
      ]
     },
     "execution_count": 4,
     "metadata": {},
     "output_type": "execute_result"
    },
    {
     "data": {
      "image/png": "[encoded data removed]",
      "text/plain": [
       "<Figure size 432x288 with 1 Axes>"
      ]
     },
     "metadata": {
      "needs_background": "light"
     },
     "output_type": "display_data"
    }
   ],
   "source": [
    "plt.semilogy(objs)"
   ]
  },
  {
   "cell_type": "markdown",
   "id": "640d655d",
   "metadata": {},
   "source": [
    "Why do observe a linear rate eventhough the objective is not strongly convex? "
   ]
  },
  {
   "cell_type": "markdown",
   "id": "2fed6647",
   "metadata": {},
   "source": [
    "## Logistic regression\n",
    "\n",
    "For binary labels $b_i \\in \\{-1, 1\\}$ and observations $a_i \\in \\mathbb{R}^d$, the \\emph{logistic regression} estimator is defined as the solution of:\n",
    "\n",
    "$$ \\min \\sum_{i=1}^n \\log (1 + \\exp(- b_i a_i^\\top x)) $$\n",
    "\n",
    "Let's inverstigate gradient descent behavior on this objective function, on toy data."
   ]
  },
  {
   "cell_type": "code",
   "execution_count": 5,
   "id": "685c5f8d",
   "metadata": {},
   "outputs": [
    {
     "name": "stdout",
     "output_type": "stream",
     "text": [
      "[3.326e-02 2.434e-01 4.430e-01 7.525e-01 9.840e-01 1.091e+00 1.763e+00\n",
      " 2.690e+00 3.671e+00 4.725e+00 5.843e+00 6.401e+00 7.723e+00 9.114e+00\n",
      " 1.043e+01 1.344e+01 1.573e+01 1.662e+01 1.996e+01 2.022e+01 2.119e+01\n",
      " 2.272e+01 2.515e+01 2.834e+01 2.965e+01 3.334e+01 3.623e+01 3.799e+01\n",
      " 4.246e+01 4.394e+01 4.875e+01 5.301e+01 5.602e+01 5.984e+01 6.517e+01\n",
      " 7.322e+01 7.583e+01 7.912e+01 8.534e+01 8.883e+01 9.583e+01 9.955e+01\n",
      " 1.093e+02 1.117e+02 1.183e+02 1.297e+02 1.391e+02 1.411e+02 1.553e+02\n",
      " 1.614e+02]\n"
     ]
    }
   ],
   "source": [
    "np.random.seed(0)\n",
    "n_samples, n_features = 50, 50\n",
    "b = np.sign(np.random.randn(n_samples))\n",
    "A = np.random.randn(n_samples, n_features)\n",
    "\n",
    "# this is a subtle hack to avoid a very interesting divergence phenomenon\n",
    "A = np.vstack([A, A[-1, :]])\n",
    "b = np.hstack([b, - b[-1:]])\n",
    "\n",
    "eigvals = np.linalg.eigvalsh(A.T @ A)\n",
    "print(eigvals)"
   ]
  },
  {
   "cell_type": "markdown",
   "id": "56130e16",
   "metadata": {},
   "source": [
    "The objective value and its gradient can be computed explicitely:  "
   ]
  },
  {
   "cell_type": "code",
   "execution_count": 6,
   "id": "40ef6dd4",
   "metadata": {},
   "outputs": [],
   "source": [
    "def logistic_loss(x):\n",
    "    return np.log(1. + np.exp(-b * (A @ x))).sum()\n",
    "\n",
    "def grad_logistic_loss(x):\n",
    "    return A.T @ (- b / (1. + np.exp(b * (A @ x))))"
   ]
  },
  {
   "cell_type": "markdown",
   "id": "325bdcc2",
   "metadata": {},
   "source": [
    "We check that our formula for the gradient is close to the one that `scipy` can compute with finite difference method:"
   ]
  },
  {
   "cell_type": "code",
   "execution_count": 7,
   "id": "84b101e0",
   "metadata": {},
   "outputs": [
    {
     "data": {
      "text/plain": [
       "1.335817035385223e-05"
      ]
     },
     "execution_count": 7,
     "metadata": {},
     "output_type": "execute_result"
    }
   ],
   "source": [
    "check_grad(logistic_loss, grad_logistic_loss, np.random.randn(n_features)) \n",
    "# norm of difference should be small "
   ]
  },
  {
   "cell_type": "markdown",
   "id": "98e4b936",
   "metadata": {},
   "source": [
    "The objective is smooth, with Lipschitz constant given by (see exercise sheet):"
   ]
  },
  {
   "cell_type": "code",
   "execution_count": 8,
   "id": "8a191e71",
   "metadata": {},
   "outputs": [],
   "source": [
    "L = np.linalg.norm(A, ord=2) ** 2 / 4."
   ]
  },
  {
   "cell_type": "code",
   "execution_count": 9,
   "id": "3ca9f773",
   "metadata": {},
   "outputs": [],
   "source": [
    "# GD algorithm:\n",
    "def GD_logreg(x0, stepsize=1/L, max_iter=20):\n",
    "    x = x0.copy()\n",
    "    objs = []\n",
    "    for it in range(max_iter):\n",
    "        x -= stepsize * grad_logistic_loss(x)\n",
    "        objs.append(logistic_loss(x))\n",
    "\n",
    "    return x, objs"
   ]
  },
  {
   "cell_type": "code",
   "execution_count": 10,
   "id": "8d959271",
   "metadata": {},
   "outputs": [],
   "source": [
    "x, objs = GD_logreg(np.zeros(n_features), 1/L, 5000)"
   ]
  },
  {
   "cell_type": "code",
   "execution_count": 11,
   "id": "e3b9d802",
   "metadata": {},
   "outputs": [
    {
     "data": {
      "text/plain": [
       "array([ 1.581,  0.064,  3.915,  0.478,  0.256,  1.116, -1.333, -0.791,\n",
       "       -3.275, -1.179,  1.033,  0.997,  0.44 ,  1.157,  3.413,  0.896,\n",
       "        0.425,  2.767,  2.641, -0.976,  0.633, -0.925,  3.316,  0.777,\n",
       "        2.423, -1.666, -3.917,  2.584, -1.303, -0.148, -1.441, -2.275,\n",
       "       -1.571,  0.745,  0.116, -0.612,  1.221, -1.099,  1.296,  1.666,\n",
       "       -2.724,  3.101,  0.921,  1.443, -1.882,  1.44 ,  0.506,  0.012,\n",
       "        0.842,  1.418])"
      ]
     },
     "execution_count": 11,
     "metadata": {},
     "output_type": "execute_result"
    }
   ],
   "source": [
    "x"
   ]
  },
  {
   "cell_type": "code",
   "execution_count": 12,
   "id": "b6e2bdba",
   "metadata": {},
   "outputs": [
    {
     "data": {
      "text/plain": [
       "array([[  5.053,   0.72 ,  16.585,   1.687,   0.825,   4.078,  -6.874,\n",
       "         -2.45 , -14.037,  -5.386,   4.261,   4.626,   1.108,   2.952,\n",
       "         11.915,   5.2  ,   0.785,  11.911,  10.338,  -4.027,   3.014,\n",
       "         -4.086,  12.308,   3.342,   8.974,  -7.814, -16.814,   9.578,\n",
       "         -5.435,  -0.668,  -4.331,  -8.726,  -5.962,   2.796,   0.345,\n",
       "         -1.572,   5.464,  -4.861,   5.823,   6.099, -11.459,  12.18 ,\n",
       "          3.631,   4.928,  -6.876,   7.268,   1.611,  -0.648,   3.923,\n",
       "          5.426]])"
      ]
     },
     "execution_count": 12,
     "metadata": {},
     "output_type": "execute_result"
    }
   ],
   "source": [
    "clf = LogisticRegression(penalty='none', fit_intercept=False, tol=0, solver='lbfgs').fit(A, b)\n",
    "clf.coef_"
   ]
  },
  {
   "cell_type": "code",
   "execution_count": 13,
   "id": "d3a7a62c",
   "metadata": {},
   "outputs": [
    {
     "data": {
      "text/plain": [
       "1.4118908289601864"
      ]
     },
     "execution_count": 13,
     "metadata": {},
     "output_type": "execute_result"
    }
   ],
   "source": [
    "logistic_loss(x)"
   ]
  },
  {
   "cell_type": "code",
   "execution_count": 14,
   "id": "6ff29ab9",
   "metadata": {},
   "outputs": [
    {
     "data": {
      "text/plain": [
       "1.3862943629485234"
      ]
     },
     "execution_count": 14,
     "metadata": {},
     "output_type": "execute_result"
    }
   ],
   "source": [
    "p_star = logistic_loss(clf.coef_[0])\n",
    "p_star"
   ]
  },
  {
   "cell_type": "code",
   "execution_count": 15,
   "id": "1aa5e461",
   "metadata": {},
   "outputs": [
    {
     "data": {
      "image/png": "[encoded data removed]",
      "text/plain": [
       "<Figure size 432x288 with 1 Axes>"
      ]
     },
     "metadata": {
      "needs_background": "light"
     },
     "output_type": "display_data"
    }
   ],
   "source": [
    "it = np.arange(1, len(objs) + 1)\n",
    "plt.semilogy(it, objs[0] / it, label=\"$\\mathcal{O}(1 / k)$ rate\")\n",
    "plt.semilogy(objs - p_star, label='observed rate')\n",
    "plt.xlabel(\"Iteration $k$\", fontsize=16)\n",
    "plt.legend(fontsize=14)\n",
    "plt.ylabel(\"$f(x_k) - f(x^*)$\", fontsize=16);"
   ]
  },
  {
   "cell_type": "markdown",
   "id": "a7a1cda8",
   "metadata": {},
   "source": [
    "## GD on strongly convex Least Squares: another puzzle"
   ]
  },
  {
   "cell_type": "code",
   "execution_count": 16,
   "id": "53ce2cfa",
   "metadata": {},
   "outputs": [],
   "source": [
    "n_samples, n_features = 500, 500\n",
    "A = np.random.randn(n_samples, n_features)\n",
    "b = np.random.randn(n_samples)\n",
    "\n",
    "L = np.linalg.norm(A, ord=2) ** 2"
   ]
  },
  {
   "cell_type": "code",
   "execution_count": 17,
   "id": "f576abd8",
   "metadata": {
    "scrolled": true
   },
   "outputs": [
    {
     "name": "stdout",
     "output_type": "stream",
     "text": [
      "Iter 0\n",
      "Iter 100\n",
      "Iter 200\n",
      "Iter 300\n",
      "Iter 400\n"
     ]
    }
   ],
   "source": [
    "max_iter = 500\n",
    "x0 = np.ones(n_features)\n",
    "x = x0.copy()\n",
    "objs = []\n",
    "for it in range(max_iter):\n",
    "    if it % 100 == 0:\n",
    "        print(f'Iter {it}')\n",
    "    x = x - 1. / L * A.T @ (A @ x - b)\n",
    "    objs.append(norm(A @ x - b) ** 2 / 2)"
   ]
  },
  {
   "cell_type": "code",
   "execution_count": 18,
   "id": "bb03c7f8",
   "metadata": {},
   "outputs": [
    {
     "data": {
      "image/png": "[encoded data removed]",
      "text/plain": [
       "<Figure size 432x288 with 1 Axes>"
      ]
     },
     "metadata": {
      "needs_background": "light"
     },
     "output_type": "display_data"
    }
   ],
   "source": [
    "plt.semilogy(objs)\n",
    "plt.xlabel(\"Iteration $k$\", fontsize=16)\n",
    "plt.ylabel(\"$f(x_k) - f(x^*)$\", fontsize=16);"
   ]
  },
  {
   "cell_type": "code",
   "execution_count": null,
   "id": "6938a351",
   "metadata": {},
   "outputs": [],
   "source": []
  },
  {
   "cell_type": "code",
   "execution_count": null,
   "id": "f631056b",
   "metadata": {},
   "outputs": [],
   "source": []
  },
  {
   "cell_type": "code",
   "execution_count": null,
   "id": "d657eb1f",
   "metadata": {},
   "outputs": [],
   "source": []
  },
  {
   "cell_type": "code",
   "execution_count": null,
   "id": "d8558988",
   "metadata": {},
   "outputs": [],
   "source": []
  },
  {
   "cell_type": "code",
   "execution_count": null,
   "id": "0b73b6ab",
   "metadata": {},
   "outputs": [],
   "source": []
  },
  {
   "cell_type": "code",
   "execution_count": 19,
   "id": "63baa53e",
   "metadata": {},
   "outputs": [],
   "source": [
    "eigvals = np.linalg.eigvalsh(A.T @ A)"
   ]
  },
  {
   "cell_type": "code",
   "execution_count": 20,
   "id": "c8c7b4a0",
   "metadata": {},
   "outputs": [
    {
     "name": "stdout",
     "output_type": "stream",
     "text": [
      "36379523.80165397\n"
     ]
    }
   ],
   "source": [
    "kappa = eigvals[-1] / eigvals[0]\n",
    "print(kappa)"
   ]
  },
  {
   "cell_type": "code",
   "execution_count": 21,
   "id": "fe014c46",
   "metadata": {},
   "outputs": [
    {
     "data": {
      "text/plain": [
       "<matplotlib.legend.Legend at 0x7f60836d26a0>"
      ]
     },
     "execution_count": 21,
     "metadata": {},
     "output_type": "execute_result"
    },
    {
     "data": {
      "image/png": "[encoded data removed]",
      "text/plain": [
       "<Figure size 432x288 with 1 Axes>"
      ]
     },
     "metadata": {
      "needs_background": "light"
     },
     "output_type": "display_data"
    }
   ],
   "source": [
    "x_star = np.linalg.solve(A, b)\n",
    "it = np.arange(1, max_iter)\n",
    "plt.semilogy(it, objs[1:], label='actual')\n",
    "plt.semilogy(it, 2 * L * norm(x0 - x_star)  ** 2 / it, label='1 / T rate')\n",
    "plt.semilogy(it, L * norm(x0 - x_star) ** 2 * np.exp(- it / kappa), label='linear rate')\n",
    "plt.legend()"
   ]
  },
  {
   "cell_type": "markdown",
   "id": "a5b1f1bb",
   "metadata": {},
   "source": []
  }
 ],
 "metadata": {
  "kernelspec": {
   "display_name": "Python 3 (ipykernel)",
   "language": "python",
   "name": "python3"
  },
  "language_info": {
   "codemirror_mode": {
    "name": "ipython",
    "version": 3
   },
   "file_extension": ".py",
   "mimetype": "text/x-python",
   "name": "python",
   "nbconvert_exporter": "python",
   "pygments_lexer": "ipython3",
   "version": "3.9.7"
  }
 },
 "nbformat": 4,
 "nbformat_minor": 5
}
