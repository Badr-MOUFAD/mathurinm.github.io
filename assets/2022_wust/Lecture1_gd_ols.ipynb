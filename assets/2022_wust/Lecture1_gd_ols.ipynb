{
 "cells": [
  {
   "cell_type": "code",
   "execution_count": null,
   "id": "df46cd90",
   "metadata": {},
   "outputs": [],
   "source": [
    "import numpy as np \n",
    "from numpy.linalg import norm\n",
    "import matplotlib.pyplot as plt \n",
    "%matplotlib inline\n",
    "import ipywidgets as widgets\n",
    "from ipywidgets import interact"
   ]
  },
  {
   "cell_type": "code",
   "execution_count": null,
   "id": "8df11071",
   "metadata": {},
   "outputs": [],
   "source": [
    "mu, L = 1, 5 \n",
    "\n",
    "\n",
    "def f(x, y):\n",
    "    return 0.5 * (mu * x ** 2 + L * y ** 2)"
   ]
  },
  {
   "cell_type": "code",
   "execution_count": null,
   "id": "0f027c8c",
   "metadata": {},
   "outputs": [],
   "source": [
    "x = np.linspace(-3, 3)\n",
    "XX, YY = np.meshgrid(x, x)\n",
    "ZZ = np.array([f(x, y) for x, y in zip(XX, YY)]).reshape(XX.shape)"
   ]
  },
  {
   "cell_type": "code",
   "execution_count": null,
   "id": "1eff8696",
   "metadata": {},
   "outputs": [],
   "source": [
    "x0 = np.array([2.5, 2.5])\n",
    "def GD(x0, stepsize=1/L, max_iter=20):\n",
    "    x = x0.copy()\n",
    "    objs = []\n",
    "    all_x = np.zeros([max_iter, 2])\n",
    "    for it in range(max_iter):\n",
    "        all_x[it] = x\n",
    "        x = x - stepsize * np.array([mu, L]) * x\n",
    "        objs.append(norm(x) ** 2)\n",
    "\n",
    "    return x, all_x, objs\n",
    "\n",
    "\n",
    "def plot_GD_iterates(stepsize):\n",
    "    fig, axarr = plt.subplots(1, 2, constrained_layout=True, figsize=(10, 5))\n",
    "    axarr[0].contour(XX, YY, ZZ, levels=30)\n",
    "\n",
    "    x, all_x, objs = GD(x0, stepsize)\n",
    "\n",
    "    axarr[0].scatter(all_x[:, 0], all_x[:, 1])\n",
    "    axarr[0].plot(*all_x.T)\n",
    "    axarr[1].semilogy(objs)\n",
    "    axarr[1].set_ylabel(\"$f(x_k) -f^*$\")\n",
    "    axarr[1].set_xlabel(\"iteration $k$\")\n",
    "    axarr[1].set_ylim(1e-6, 10)\n",
    "    \n",
    "# plot_GD_iterates(1/L)\n",
    "stepsize = widgets.FloatSlider(min=0, max=1.99/L, step=0.1 / L)\n",
    "\n",
    "interact(plot_GD_iterates, stepsize=stepsize)"
   ]
  },
  {
   "cell_type": "code",
   "execution_count": null,
   "id": "e1ac1218",
   "metadata": {},
   "outputs": [],
   "source": []
  },
  {
   "cell_type": "code",
   "execution_count": null,
   "id": "4e9b24c7",
   "metadata": {},
   "outputs": [],
   "source": []
  }
 ],
 "metadata": {
  "kernelspec": {
   "display_name": "Python 3 (ipykernel)",
   "language": "python",
   "name": "python3"
  },
  "language_info": {
   "codemirror_mode": {
    "name": "ipython",
    "version": 3
   },
   "file_extension": ".py",
   "mimetype": "text/x-python",
   "name": "python",
   "nbconvert_exporter": "python",
   "pygments_lexer": "ipython3",
   "version": "3.9.7"
  }
 },
 "nbformat": 4,
 "nbformat_minor": 5
}
